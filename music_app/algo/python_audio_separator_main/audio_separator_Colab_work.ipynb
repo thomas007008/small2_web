{
  "nbformat": 4,
  "nbformat_minor": 0,
  "metadata": {
    "colab": {
      "provenance": [],
      "gpuType": "T4",
      "authorship_tag": "ABX9TyPBeo9p65821vxQGhDD4LkA",
      "include_colab_link": true
    },
    "kernelspec": {
      "name": "python3",
      "display_name": "Python 3"
    },
    "language_info": {
      "name": "python"
    },
    "accelerator": "GPU"
  },
  "cells": [
    {
      "cell_type": "markdown",
      "metadata": {
        "id": "view-in-github",
        "colab_type": "text"
      },
      "source": [
        "<a href=\"https://colab.research.google.com/github/blane187gt/python-audio-separator/blob/main/audio_separator_Colab_work.ipynb\" target=\"_parent\"><img src=\"https://colab.research.google.com/assets/colab-badge.svg\" alt=\"Open In Colab\"/></a>"
      ]
    },
    {
      "cell_type": "markdown",
      "source": [
        "# **AUDIO SEPARATOR COLAB WORK**\n",
        "\n",
        "- colab made by **[Blane187](https://huggingface.co/Blane187)**\n",
        "\n",
        "- Audio Separator by **[Beveradb](https://github.com/beveradb)**\n",
        "\n",
        "\n",
        "\n",
        "- UVR5  by **[Anjok07](https://github.com/Anjok07)**\n",
        "\n",
        "- yt_dlp by **[yt_dlp](https://github.com/yt_dlp)**"
      ],
      "metadata": {
        "id": "NK8ZVl7rDTKF"
      }
    },
    {
      "cell_type": "code",
      "source": [
        "#@title # **Installation**\n",
        "from IPython.display import clear_output\n",
        "import subprocess\n",
        "import os\n",
        "\n",
        "colab_path = \"/content\"\n",
        "\n",
        "\n",
        "print(\"-----------------------------------------------------\")\n",
        "print(\"   Audio Separator - Colab Notebook Work made with ❤\")\n",
        "print(\"-----------------------------------------------------\")\n",
        "\n",
        "path = \"/content\"\n",
        "\n",
        "!pip install \"audio-separator[gpu]\"\n",
        "!pip install pydub\n",
        "!pip install yt_dlp\n",
        "!mkdir models\n",
        "!mkdir temp\n",
        "\n",
        "clear_output()\n",
        "print('Installation done !')"
      ],
      "metadata": {
        "cellView": "form",
        "id": "TU_XnvB1B93w"
      },
      "execution_count": null,
      "outputs": []
    },
    {
      "cell_type": "code",
      "source": [
        "#@title **Audio Downloader for Separation**\n",
        "import os\n",
        "import yt_dlp\n",
        "\n",
        "#@markdown Link:\n",
        "video_url = \"paste link audio/video here\"  #@param {type:\"string\"}\n",
        "#@markdown You can paste the link to the video/audio from many sites, check the complete list [here](https://github.com/yt-dlp/yt-dlp/blob/master/supportedsites.md)\n",
        "\n",
        "\n",
        "def downloader(url):\n",
        "    ydl_opts = {\n",
        "        'format': 'bestaudio/best',\n",
        "        'postprocessors': [{\n",
        "            'key': 'FFmpegExtractAudio',\n",
        "            'preferredcodec': 'wav',\n",
        "            'preferredquality': '192',\n",
        "        }],\n",
        "        'outtmpl': 'ytdl/%(title)s.%(ext)s',\n",
        "    }\n",
        "\n",
        "    with yt_dlp.YoutubeDL(ydl_opts) as ydl:\n",
        "        ydl.download([url])\n",
        "        info_dict = ydl.extract_info(url, download=True)\n",
        "        file_path = ydl.prepare_filename(info_dict).rsplit('.', 1)[0] + '.wav'\n",
        "\n",
        "\n",
        "downloader(video_url)\n",
        "print(\"Download Complete!\")"
      ],
      "metadata": {
        "cellView": "form",
        "id": "BnNIbpcKCHYq"
      },
      "execution_count": null,
      "outputs": []
    },
    {
      "cell_type": "code",
      "source": [
        "#@title **separate your audio**\n",
        "\n",
        "\n",
        "import os\n",
        "from audio_separator.separator import Separator\n",
        "\n",
        "input = \"your audio inputs\"#@param {type:\"string\"}\n",
        "output = \"/content/output\"#@param {type:\"string\"}\n",
        "\n",
        "separator = Separator(output_dir=output)\n",
        "\n",
        "# Vocals and Instrumental\n",
        "vocals = os.path.join(output, 'Vocals.wav')\n",
        "instrumental = os.path.join(output, 'Instrumental.wav')\n",
        "\n",
        "\n",
        "# Lead Vocals and Backing Vocals\n",
        "lead_vocals = os.path.join(output, 'Lead Vocals.wav')\n",
        "backing_vocals = os.path.join(output, 'Backing Vocals.wav')\n",
        "\n",
        "# Splitting a track into Vocal and Instrumental\n",
        "separator.load_model(model_filename='model_bs_roformer_ep_317_sdr_12.9755.ckpt')\n",
        "voc_inst = separator.separate(input)\n",
        "os.rename(os.path.join(output, voc_inst[0]), instrumental) # Rename file to “Instrumental.wav”\n",
        "os.rename(os.path.join(output, voc_inst[1]), vocals) # Rename file to “Vocals.wav”\n",
        "\n",
        "\n",
        "# Separating Back Vocals from Main Vocals\n",
        "separator.load_model(model_filename='mel_band_roformer_karaoke_aufr33_viperx_sdr_10.1956.ckpt')\n",
        "backing_voc = separator.separate(vocals)\n",
        "os.rename(os.path.join(output, backing_voc[0]), backing_vocals) # Rename file to “Backing Vocals.wav”\n",
        "os.rename(os.path.join(output, backing_voc[1]), lead_vocals) # Rename file to “Lead Vocals.wav”"
      ],
      "metadata": {
        "cellView": "form",
        "id": "wxY10tR5EIS9"
      },
      "execution_count": null,
      "outputs": []
    }
  ]
}